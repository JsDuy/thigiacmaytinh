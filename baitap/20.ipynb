{
 "cells": [
  {
   "cell_type": "code",
   "execution_count": 1,
   "id": "90b546a8-81b3-40f9-8a20-4dc9da60123e",
   "metadata": {},
   "outputs": [],
   "source": [
    "import cv2\n",
    "import numpy as np"
   ]
  },
  {
   "cell_type": "code",
   "execution_count": 6,
   "id": "d0f6ac89-b722-4a0b-b814-3dc15382b2cc",
   "metadata": {},
   "outputs": [],
   "source": [
    "def display(title, img):\n",
    "    #hien thi anh\n",
    "    cv2.imshow(title, img)\n",
    "    # Chờ một khoảng thời gian\n",
    "    cv2.waitKey(0)\n",
    "    # Đóng window\n",
    "    cv2.destroyWindow(title)"
   ]
  },
  {
   "cell_type": "code",
   "execution_count": 16,
   "id": "8e5e816f-993f-4ca0-bc40-f29d4cacd006",
   "metadata": {},
   "outputs": [],
   "source": [
    "# tao mot anh\n",
    "img = np.zeros((400,400,3), dtype=np.uint8)\n",
    "display('ii', img)"
   ]
  },
  {
   "cell_type": "code",
   "execution_count": 20,
   "id": "07f7731f-0302-4728-aaa8-341c2ae2c329",
   "metadata": {},
   "outputs": [],
   "source": [
    "#ve mot duong thang\n",
    "cv2.line(img, (50, 50), (400, 30), (0,0,255), 2)\n",
    "display('ii', img)"
   ]
  },
  {
   "cell_type": "code",
   "execution_count": 26,
   "id": "79c0b930-aa7a-41bf-94e1-dfca6b88ad47",
   "metadata": {},
   "outputs": [],
   "source": [
    "#ve mot duong tron\n",
    "cv2.circle(img, (90, 100), 50, (187,25,154), -1)\n",
    "display('ii', img)"
   ]
  },
  {
   "cell_type": "code",
   "execution_count": 32,
   "id": "b75cc062-6dc2-4994-b219-98ed1460b976",
   "metadata": {},
   "outputs": [],
   "source": [
    "#ve mot hinh vuong/chu nhat\n",
    "cv2.rectangle(img, (100, 100), (300, 200), (64,143,22), 2)\n",
    "display('ii', img)"
   ]
  },
  {
   "cell_type": "code",
   "execution_count": 52,
   "id": "6f9b2506-ab48-402b-9df5-888eced7a379",
   "metadata": {},
   "outputs": [],
   "source": [
    "#ghi chu len hinh anh\n",
    "content = 'Js Nguyen Duy'\n",
    "font = cv2.FONT_HERSHEY_SIMPLEX\n",
    "cv2.putText(img, content, (10, 354), font, 0.8, (255, 33, 42), 2)\n",
    "display('ii', img)"
   ]
  },
  {
   "cell_type": "code",
   "execution_count": null,
   "id": "cd303835-6142-4d98-8465-ff7f4e025c47",
   "metadata": {},
   "outputs": [],
   "source": []
  }
 ],
 "metadata": {
  "kernelspec": {
   "display_name": "Python 3 (ipykernel)",
   "language": "python",
   "name": "python3"
  },
  "language_info": {
   "codemirror_mode": {
    "name": "ipython",
    "version": 3
   },
   "file_extension": ".py",
   "mimetype": "text/x-python",
   "name": "python",
   "nbconvert_exporter": "python",
   "pygments_lexer": "ipython3",
   "version": "3.12.4"
  }
 },
 "nbformat": 4,
 "nbformat_minor": 5
}
