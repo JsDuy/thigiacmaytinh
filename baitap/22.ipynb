{
 "cells": [
  {
   "cell_type": "code",
   "execution_count": 70,
   "id": "acdc4b84-2850-44b4-8458-99112eaad11f",
   "metadata": {},
   "outputs": [],
   "source": [
    "import cv2\n",
    "import time"
   ]
  },
  {
   "cell_type": "code",
   "execution_count": 72,
   "id": "98ba3a4e-8029-4ee3-bad2-99ac4803ba49",
   "metadata": {},
   "outputs": [],
   "source": [
    "my_video = cv2.VideoCapture('./data/bb.mp4')"
   ]
  },
  {
   "cell_type": "code",
   "execution_count": 10,
   "id": "ecda030e-5497-4b7e-b60e-51da6f2a97ed",
   "metadata": {},
   "outputs": [],
   "source": [
    "#tao cua so de hien thi\n",
    "cv2.namedWindow('Video player', cv2.WINDOW_NORMAL)"
   ]
  },
  {
   "cell_type": "code",
   "execution_count": 74,
   "id": "1ee5376d-b24e-4253-affa-86c5e8e02fd2",
   "metadata": {},
   "outputs": [],
   "source": [
    "#ghi text tren hinh anh\n",
    "font = cv2.FONT_HERSHEY_SIMPLEX\n",
    "font_color = (0, 0, 0)\n",
    "font_scale = 2\n",
    "font_thicknes = 2"
   ]
  },
  {
   "cell_type": "code",
   "execution_count": 80,
   "id": "bce9bdb9-ad25-43b9-abb4-44d1e2209695",
   "metadata": {},
   "outputs": [],
   "source": [
    "# Hiển thị từng khung ảnh\n",
    "while True:\n",
    "    # Thời gian trước khi đọc\n",
    "    start_time = time.time()\n",
    "    # Đọc 1 frame\n",
    "    ret, frame = my_video.read()\n",
    "    # Thoát khi không thể đọc được frame\n",
    "    if not ret:\n",
    "        break\n",
    "    # Thời gian trước khi đọc\n",
    "    end_time = time.time()    \n",
    "    # Tình FPS:\n",
    "    fps = 1/(end_time-start_time)\n",
    "    # Ghi số lượng fps\n",
    "    cv2.putText(frame, f'FPS: {fps:.2f}', (100, 100), font, font_scale, font_color , font_thicknes)\n",
    "    # Hiển thị\n",
    "    cv2.imshow('Video Player', frame)\n",
    "    if(cv2.waitKey(10)==ord('q')):\n",
    "        break\n"
   ]
  },
  {
   "cell_type": "code",
   "execution_count": 78,
   "id": "88b14f00-4e75-41fe-afef-9b7224a8c5f8",
   "metadata": {},
   "outputs": [],
   "source": [
    "\n",
    "# Hủy bỏ player\n",
    "my_video.release()\n",
    "cv2.destroyAllWindows()"
   ]
  }
 ],
 "metadata": {
  "kernelspec": {
   "display_name": "Python 3 (ipykernel)",
   "language": "python",
   "name": "python3"
  },
  "language_info": {
   "codemirror_mode": {
    "name": "ipython",
    "version": 3
   },
   "file_extension": ".py",
   "mimetype": "text/x-python",
   "name": "python",
   "nbconvert_exporter": "python",
   "pygments_lexer": "ipython3",
   "version": "3.12.4"
  }
 },
 "nbformat": 4,
 "nbformat_minor": 5
}
