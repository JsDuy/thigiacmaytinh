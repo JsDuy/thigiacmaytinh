{
 "cells": [
  {
   "cell_type": "code",
   "execution_count": 1,
   "id": "91f83f2e-7d49-4529-a91e-50ac3d76c056",
   "metadata": {},
   "outputs": [
    {
     "name": "stdout",
     "output_type": "stream",
     "text": [
      "Collecting opencv-python\n",
      "  Downloading opencv_python-4.10.0.84-cp37-abi3-win_amd64.whl.metadata (20 kB)\n",
      "Requirement already satisfied: numpy>=1.21.2 in d:\\js duy\\dntu\\nam4\\ki1\\thigiacmaytinh\\lib\\site-packages (from opencv-python) (1.26.4)\n",
      "Downloading opencv_python-4.10.0.84-cp37-abi3-win_amd64.whl (38.8 MB)\n",
      "   ---------------------------------------- 0.0/38.8 MB ? eta -:--:--\n",
      "   ---------------------------------------- 0.0/38.8 MB ? eta -:--:--\n",
      "   ---------------------------------------- 0.0/38.8 MB 653.6 kB/s eta 0:01:00\n",
      "   ---------------------------------------- 0.1/38.8 MB 1.2 MB/s eta 0:00:32\n",
      "   ---------------------------------------- 0.3/38.8 MB 2.0 MB/s eta 0:00:20\n",
      "   ---------------------------------------- 0.5/38.8 MB 3.0 MB/s eta 0:00:13\n",
      "    --------------------------------------- 0.9/38.8 MB 4.3 MB/s eta 0:00:09\n",
      "   - -------------------------------------- 1.5/38.8 MB 6.5 MB/s eta 0:00:06\n",
      "   -- ------------------------------------- 2.3/38.8 MB 8.7 MB/s eta 0:00:05\n",
      "   --- ------------------------------------ 3.3/38.8 MB 10.6 MB/s eta 0:00:04\n",
      "   ---- ----------------------------------- 4.4/38.8 MB 12.7 MB/s eta 0:00:03\n",
      "   ----- ---------------------------------- 5.4/38.8 MB 14.4 MB/s eta 0:00:03\n",
      "   ------ --------------------------------- 6.5/38.8 MB 15.4 MB/s eta 0:00:03\n",
      "   ------ --------------------------------- 6.6/38.8 MB 15.6 MB/s eta 0:00:03\n",
      "   ------ --------------------------------- 6.6/38.8 MB 15.6 MB/s eta 0:00:03\n",
      "   ------- -------------------------------- 7.0/38.8 MB 13.6 MB/s eta 0:00:03\n",
      "   -------- ------------------------------- 7.8/38.8 MB 14.3 MB/s eta 0:00:03\n",
      "   -------- ------------------------------- 8.3/38.8 MB 14.3 MB/s eta 0:00:03\n",
      "   -------- ------------------------------- 8.3/38.8 MB 14.3 MB/s eta 0:00:03\n",
      "   -------- ------------------------------- 8.3/38.8 MB 14.3 MB/s eta 0:00:03\n",
      "   ---------- ----------------------------- 10.6/38.8 MB 18.2 MB/s eta 0:00:02\n",
      "   ------------- -------------------------- 12.9/38.8 MB 22.6 MB/s eta 0:00:02\n",
      "   -------------- ------------------------- 14.0/38.8 MB 22.6 MB/s eta 0:00:02\n",
      "   -------------- ------------------------- 14.1/38.8 MB 21.1 MB/s eta 0:00:02\n",
      "   --------------- ------------------------ 14.6/38.8 MB 19.8 MB/s eta 0:00:02\n",
      "   --------------- ------------------------ 15.5/38.8 MB 19.9 MB/s eta 0:00:02\n",
      "   ----------------- ---------------------- 16.7/38.8 MB 20.5 MB/s eta 0:00:02\n",
      "   ------------------ --------------------- 17.7/38.8 MB 24.3 MB/s eta 0:00:01\n",
      "   ------------------- -------------------- 18.7/38.8 MB 31.2 MB/s eta 0:00:01\n",
      "   -------------------- ------------------- 19.9/38.8 MB 31.2 MB/s eta 0:00:01\n",
      "   --------------------- ------------------ 21.0/38.8 MB 27.3 MB/s eta 0:00:01\n",
      "   ---------------------- ----------------- 22.0/38.8 MB 26.2 MB/s eta 0:00:01\n",
      "   ----------------------- ---------------- 23.0/38.8 MB 25.2 MB/s eta 0:00:01\n",
      "   ------------------------ --------------- 23.9/38.8 MB 24.2 MB/s eta 0:00:01\n",
      "   ------------------------- -------------- 24.8/38.8 MB 27.3 MB/s eta 0:00:01\n",
      "   -------------------------- ------------- 25.4/38.8 MB 27.3 MB/s eta 0:00:01\n",
      "   --------------------------- ------------ 26.3/38.8 MB 27.3 MB/s eta 0:00:01\n",
      "   --------------------------- ------------ 26.3/38.8 MB 27.3 MB/s eta 0:00:01\n",
      "   --------------------------- ------------ 26.3/38.8 MB 27.3 MB/s eta 0:00:01\n",
      "   --------------------------- ------------ 26.8/38.8 MB 21.9 MB/s eta 0:00:01\n",
      "   ------------------------------ --------- 29.8/38.8 MB 25.2 MB/s eta 0:00:01\n",
      "   ------------------------------- -------- 30.8/38.8 MB 25.2 MB/s eta 0:00:01\n",
      "   -------------------------------- ------- 31.7/38.8 MB 25.1 MB/s eta 0:00:01\n",
      "   --------------------------------- ------ 32.8/38.8 MB 24.2 MB/s eta 0:00:01\n",
      "   ---------------------------------- ----- 33.8/38.8 MB 25.2 MB/s eta 0:00:01\n",
      "   ----------------------------------- ---- 34.6/38.8 MB 24.2 MB/s eta 0:00:01\n",
      "   ------------------------------------ --- 35.7/38.8 MB 25.2 MB/s eta 0:00:01\n",
      "   ------------------------------------- -- 36.7/38.8 MB 32.8 MB/s eta 0:00:01\n",
      "   -------------------------------------- - 37.7/38.8 MB 32.8 MB/s eta 0:00:01\n",
      "   ---------------------------------------  38.7/38.8 MB 28.5 MB/s eta 0:00:01\n",
      "   ---------------------------------------  38.8/38.8 MB 28.5 MB/s eta 0:00:01\n",
      "   ---------------------------------------  38.8/38.8 MB 28.5 MB/s eta 0:00:01\n",
      "   ---------------------------------------- 38.8/38.8 MB 23.4 MB/s eta 0:00:00\n",
      "Installing collected packages: opencv-python\n",
      "Successfully installed opencv-python-4.10.0.84\n"
     ]
    }
   ],
   "source": [
    "#!pip install opencv-python"
   ]
  },
  {
   "cell_type": "code",
   "execution_count": 21,
   "id": "183fb113-50e0-42f7-8c71-aa6b53194bce",
   "metadata": {},
   "outputs": [],
   "source": [
    "\n",
    "def display(title, img):\n",
    "    cv2.imshow(title, img)\n",
    "    # Chờ một khoảng thời gian\n",
    "    cv2.waitKey(0)\n",
    "    # Đóng window\n",
    "    cv2.destroyWindow(title)"
   ]
  },
  {
   "cell_type": "code",
   "execution_count": 1,
   "id": "c5bc2a36-c9cc-44c4-abf9-354f0f7cacb2",
   "metadata": {},
   "outputs": [],
   "source": [
    "#import thu vien\n",
    "import cv2"
   ]
  },
  {
   "cell_type": "code",
   "execution_count": 3,
   "id": "67420ef7-e758-4d74-9dff-12bda36489eb",
   "metadata": {},
   "outputs": [],
   "source": [
    "path = 'D:/JS Duy/DNTU/nam4/ki1/thigiacmaytinh/img/01/01.jpg'\n",
    "img = cv2.imread(path)\n",
    "cv2.imshow(\"ii\", img)\n",
    "cv2.waitKey(10000)\n",
    "#dong anh\n",
    "cv2.destroyWindow('ii')"
   ]
  },
  {
   "cell_type": "code",
   "execution_count": 5,
   "id": "83f3bd63-16eb-4d97-a587-5d5f70e86f69",
   "metadata": {},
   "outputs": [
    {
     "ename": "TypeError",
     "evalue": "destroyWindow() missing required argument 'winname' (pos 1)",
     "output_type": "error",
     "traceback": [
      "\u001b[1;31m---------------------------------------------------------------------------\u001b[0m",
      "\u001b[1;31mTypeError\u001b[0m                                 Traceback (most recent call last)",
      "Cell \u001b[1;32mIn[5], line 9\u001b[0m\n\u001b[0;32m      7\u001b[0m cv2\u001b[38;5;241m.\u001b[39mwaitKey(\u001b[38;5;241m0\u001b[39m)\n\u001b[0;32m      8\u001b[0m \u001b[38;5;66;03m#dong anh\u001b[39;00m\n\u001b[1;32m----> 9\u001b[0m cv2\u001b[38;5;241m.\u001b[39mdestroyWindow()\n",
      "\u001b[1;31mTypeError\u001b[0m: destroyWindow() missing required argument 'winname' (pos 1)"
     ]
    }
   ],
   "source": [
    "b, g, r = cv2.split(img)\n",
    "cv2.imshow(\"ii\", img)\n",
    "cv2.imshow(\"Red\", r)\n",
    "cv2.imshow(\"Green\", g)\n",
    "cv2.imshow(\"Blue\", b)\n",
    "#cho 1 khoang thoi gian\n",
    "cv2.waitKey(0)\n",
    "#dong anh\n",
    "cv2.destroyWindow()"
   ]
  },
  {
   "cell_type": "code",
   "execution_count": 1,
   "id": "c42a2119-680f-4af5-aade-7f2d2eccf577",
   "metadata": {},
   "outputs": [
    {
     "ename": "NameError",
     "evalue": "name 'cv2' is not defined",
     "output_type": "error",
     "traceback": [
      "\u001b[1;31m---------------------------------------------------------------------------\u001b[0m",
      "\u001b[1;31mNameError\u001b[0m                                 Traceback (most recent call last)",
      "Cell \u001b[1;32mIn[1], line 1\u001b[0m\n\u001b[1;32m----> 1\u001b[0m gray_img \u001b[38;5;241m=\u001b[39m cv2\u001b[38;5;241m.\u001b[39mcvtColor(img, cv2\u001b[38;5;241m.\u001b[39mCOLOR_BGR2GRAY)\n\u001b[0;32m      2\u001b[0m img_2 \u001b[38;5;241m=\u001b[39m cv2\u001b[38;5;241m.\u001b[39mcvtColor(img, cv2\u001b[38;5;241m.\u001b[39mCOLOR_BGR2RGB)\n\u001b[0;32m      3\u001b[0m cv2\u001b[38;5;241m.\u001b[39mimshow(\u001b[38;5;124m\"\u001b[39m\u001b[38;5;124mii\u001b[39m\u001b[38;5;124m\"\u001b[39m, img)\n",
      "\u001b[1;31mNameError\u001b[0m: name 'cv2' is not defined"
     ]
    }
   ],
   "source": [
    "gray_img = cv2.cvtColor(img, cv2.COLOR_BGR2GRAY)\n",
    "img_2 = cv2.cvtColor(img, cv2.COLOR_BGR2RGB)\n",
    "cv2.imshow('Window', img)\n",
    "cv2.imshow('gray_img', gray_img)\n",
    "cv2.imshow('img_2', img_2)\n",
    "# Chờ một khoảng thời gian\n",
    "cv2.waitKey(0)\n",
    "# Đóng window\n",
    "cv2.destroyAllWindows()"
   ]
  },
  {
   "cell_type": "code",
   "execution_count": 23,
   "id": "e1b1b286-cab0-4fc2-801e-7fe06aa06993",
   "metadata": {},
   "outputs": [],
   "source": [
    "# thay doi thong so cua diem anh\n",
    "height, width, z = img.shape\n",
    "quater_h = height/2\n",
    "quater_w = width/2\n",
    "\n",
    "#green color \n",
    "green_color = (0, 255, 0)\n",
    "\n",
    "# copy ảnh\n",
    "img2 = img.copy()\n",
    "\n",
    "#thay doi mau cua goc 1/4 phia tren\n",
    "for y in range(int(quater_h)):\n",
    "    for x in range(int(quater_w)):\n",
    "        img2[y, x] = green_color\n",
    "\n",
    "display('ii', img)\n",
    "display('ii-2', img2)"
   ]
  }
 ],
 "metadata": {
  "kernelspec": {
   "display_name": "Python 3 (ipykernel)",
   "language": "python",
   "name": "python3"
  },
  "language_info": {
   "codemirror_mode": {
    "name": "ipython",
    "version": 3
   },
   "file_extension": ".py",
   "mimetype": "text/x-python",
   "name": "python",
   "nbconvert_exporter": "python",
   "pygments_lexer": "ipython3",
   "version": "3.12.4"
  }
 },
 "nbformat": 4,
 "nbformat_minor": 5
}
