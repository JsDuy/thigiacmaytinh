{
 "cells": [
  {
   "cell_type": "code",
   "execution_count": 13,
   "id": "acdc4b84-2850-44b4-8458-99112eaad11f",
   "metadata": {},
   "outputs": [],
   "source": [
    "import cv2"
   ]
  },
  {
   "cell_type": "code",
   "execution_count": 15,
   "id": "98ba3a4e-8029-4ee3-bad2-99ac4803ba49",
   "metadata": {},
   "outputs": [],
   "source": [
    "my_video = cv2.VideoCapture('./data/bb.mp4')"
   ]
  },
  {
   "cell_type": "code",
   "execution_count": 8,
   "id": "ecda030e-5497-4b7e-b60e-51da6f2a97ed",
   "metadata": {},
   "outputs": [],
   "source": [
    "#tao cua so de hien thi\n",
    "cv2.namedWindow('Video player', cv2.WINDOW_NORMAL)"
   ]
  },
  {
   "cell_type": "code",
   "execution_count": 17,
   "id": "1ee5376d-b24e-4253-affa-86c5e8e02fd2",
   "metadata": {},
   "outputs": [],
   "source": [
    "#hien thi tung khung anh\n",
    "while True: \n",
    "    # doc 1 frame\n",
    "    ret, frame = my_video.read()\n",
    "\n",
    "    #thoat khi khong the doc frame\n",
    "    if not ret:\n",
    "        break\n",
    "\n",
    "    #hien thi\n",
    "    cv2.imshow('Video player', frame)\n",
    "\n",
    "    if(cv2.waitKey(10)==ord('q')):\n",
    "        break"
   ]
  },
  {
   "cell_type": "code",
   "execution_count": 19,
   "id": "bce9bdb9-ad25-43b9-abb4-44d1e2209695",
   "metadata": {},
   "outputs": [],
   "source": [
    "#huy bo player\n",
    "my_video.release\n",
    "cv2.destroyAllWindows()"
   ]
  },
  {
   "cell_type": "code",
   "execution_count": null,
   "id": "d88fe79a-b8e4-4a6b-9bde-2f25cb34a563",
   "metadata": {},
   "outputs": [],
   "source": []
  }
 ],
 "metadata": {
  "kernelspec": {
   "display_name": "Python 3 (ipykernel)",
   "language": "python",
   "name": "python3"
  },
  "language_info": {
   "codemirror_mode": {
    "name": "ipython",
    "version": 3
   },
   "file_extension": ".py",
   "mimetype": "text/x-python",
   "name": "python",
   "nbconvert_exporter": "python",
   "pygments_lexer": "ipython3",
   "version": "3.12.4"
  }
 },
 "nbformat": 4,
 "nbformat_minor": 5
}
